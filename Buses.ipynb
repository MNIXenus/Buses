{
 "cells": [
  {
   "cell_type": "code",
   "execution_count": 25,
   "metadata": {},
   "outputs": [],
   "source": [
    "from __future__ import print_function\n",
    "import mysql.connector\n",
    "from mysql.connector import errorcode\n",
    "import requests\n",
    "import re\n",
    "from bs4 import BeautifulSoup\n",
    "import random\n",
    "import datetime"
   ]
  },
  {
   "cell_type": "code",
   "execution_count": 26,
   "metadata": {},
   "outputs": [
    {
     "name": "stdout",
     "output_type": "stream",
     "text": [
      "No result set to fetch from.\n"
     ]
    }
   ],
   "source": [
    "#создать базу\n",
    "sql_lines = open(\"buses_create_script.sql\").read() #отдельный скрипт в корне\n",
    "cnx = mysql.connector.connect(user = \"MNIXenus\", password = \"00mefomu\", host = \"127.0.0.1\")\n",
    "cursor = cnx.cursor()\n",
    "try:\n",
    "    lines = cursor.execute(sql_lines, multi = True) #попробовать выполнить\n",
    "    for i in lines:\n",
    "        print(i.fetchall())\n",
    "except mysql.connector.Error as err:\n",
    "    print(err.msg)\n",
    "cursor.close()\n",
    "cnx.close()"
   ]
  },
  {
   "cell_type": "code",
   "execution_count": 27,
   "metadata": {},
   "outputs": [],
   "source": [
    "#шаблоны для ввода данных\n",
    "add_route = ('INSERT INTO routes (idroutes, drivers) VALUES (\"{}\", \"{}\");')\n",
    "add_stop = ('INSERT INTO stops (idstops, name) VALUES (\"{}\", \"{}\");')\n",
    "add_drivers = ('INSERT INTO drivers(iddrivers, last_name, first_name, second_name) VALUES (\"{}\", \"{}\", \"{}\", \"{}\");')\n",
    "add_sensor_data= ('INSERT INTO sensor_data (idSensor_data, route, stop, driver, time_arrival, time_departure) VALUES (\"{}\", \"{}\", \"{}\", \"{}\", \"{}\", \"{}\");')"
   ]
  },
  {
   "cell_type": "code",
   "execution_count": 29,
   "metadata": {},
   "outputs": [],
   "source": [
    "#заполнить водителей\n",
    "cnx = mysql.connector.connect(user = \"MNIXenus\", password = \"00mefomu\", host = \"127.0.0.1\", database = \"buses\")\n",
    "cursor = cnx.cursor()\n",
    "drivers = open('drivers.txt').read().split('\\n')\n",
    "drivers = [(i.split(' ')) for i in drivers]\n",
    "for i in range(len(drivers)):\n",
    "    driver = (i, drivers[i][0], drivers[i][1], drivers[i][2])\n",
    "    cursor.execute(add_drivers.format(*driver))\n",
    "cnx.commit()\n",
    "cursor.close()\n",
    "cnx.close()"
   ]
  },
  {
   "cell_type": "code",
   "execution_count": 10,
   "metadata": {},
   "outputs": [],
   "source": [
    "#спарсить остановки\n",
    "raw_html_stops = requests.get('https://www.bustime.ru/vladivostok/stop/')\n",
    "findstops = re.compile('<div class=\"ui fluid vertical menu\">(.+?)</div>', re.S)\n",
    "stops = ''.join(findstops.findall(raw_html_stops.text))\n",
    "stops = [BeautifulSoup(i, \"html5lib\").get_text() for i in stops.split('</a>')][:-1]"
   ]
  },
  {
   "cell_type": "code",
   "execution_count": 30,
   "metadata": {},
   "outputs": [],
   "source": [
    "#Заполнить остановки\n",
    "cnx = mysql.connector.connect(user = \"MNIXenus\", password = \"00mefomu\", host = \"127.0.0.1\", database = \"buses\")\n",
    "cursor = cnx.cursor()\n",
    "for i in range(len(stops)):\n",
    "    stop = (i, stops[i])\n",
    "    cursor.execute(add_stop.format(*stop))\n",
    "cnx.commit()\n",
    "cursor.close()\n",
    "cnx.close()"
   ]
  },
  {
   "cell_type": "code",
   "execution_count": 12,
   "metadata": {
    "scrolled": true
   },
   "outputs": [],
   "source": [
    "#Спарсить маршруты\n",
    "raw_html_routes = requests.get('https://www.bustime.ru/vladivostok/')\n",
    "findroutes = re.compile('<div class=\"icon mode_0 \">(.+?)</a></div>', re.S)\n",
    "getroutes = re.compile('href=\"#bus-(.+?)\"')\n",
    "routes = ''.join(findroutes.findall(raw_html_routes.text))\n",
    "routes = getroutes.findall(routes)\n",
    "raw_html_stops_in_routes = {i: requests.get('https://www.bustime.ru/vladivostok/bus-'+i+'/') for i in routes}\n",
    "cnx = mysql.connector.connect(user = \"MNIXenus\", password = \"00mefomu\", host = \"127.0.0.1\", database = \"buses\")\n",
    "cursor = cnx.cursor()\n",
    "findstops_routes = re.compile('<table class=\"ui compact unstackable table\"(.+?)</table>', re.S)\n",
    "getstops_routes = re.compile('<td>(.+?)</td>', re.S)\n",
    "stops_in_routes = {}\n",
    "for i in raw_html_stops_in_routes:\n",
    "    stops_in_route = findstops_routes.findall(raw_html_stops_in_routes[i].text)[0]\n",
    "    stops_in_route = getstops_routes.findall(stops_in_route)\n",
    "    stops_in_route = [BeautifulSoup(i, \"html5lib\").get_text().rstrip() for i in stops_in_route]\n",
    "    stops_in_route = [i for i in stops_in_route if i.rstrip('0123456789:') != '']\n",
    "    stops_in_route[0] = stops_in_route[0].rstrip('0123456789:')\n",
    "    for j in range(len(stops_in_route)):\n",
    "        cursor.execute('SELECT idstops FROM stops WHERE name= \"'+stops_in_route[j]+'\"')\n",
    "        result = cursor.fetchall()\n",
    "        if result != []: \n",
    "            stops_in_route[j] = result[0][0]\n",
    "        else:\n",
    "            stops_in_route[j] = 0   \n",
    "    stops_in_routes[i] = stops_in_route\n",
    "cnx.commit()\n",
    "cursor.close()\n",
    "cnx.close()"
   ]
  },
  {
   "cell_type": "code",
   "execution_count": 31,
   "metadata": {},
   "outputs": [],
   "source": [
    "#заполнить маршруты\n",
    "cnx = mysql.connector.connect(user = \"MNIXenus\", password = \"00mefomu\", host = \"127.0.0.1\", database = \"buses\")\n",
    "cursor = cnx.cursor()\n",
    "for i in range(len(routes)):\n",
    "    route = (routes[i], i)\n",
    "    cursor.execute(add_route.format(*route))\n",
    "for i in range(max([len(stops_in_routes[i]) for i in stops_in_routes])):\n",
    "    cursor.execute('ALTER TABLE routes ADD stop_'+str(i)+' INT;')\n",
    "cnx.commit()\n",
    "for i in range(max([len(stops_in_routes[i]) for i in stops_in_routes])):\n",
    "    cursor.execute('ALTER TABLE routes ADD FOREIGN KEY (stop_'+str(i)+') REFERENCES stops(idstops);')\n",
    "cnx.commit()\n",
    "for i in stops_in_routes:\n",
    "    counter = 0\n",
    "    for j in stops_in_routes[i]:\n",
    "        cursor.execute('UPDATE routes SET stop_'+str(counter)+'=\"'+str(j)+'\" WHERE idroutes = \"'+str(i)+'\";')\n",
    "        counter +=1\n",
    "cnx.commit()\n",
    "cursor.close()\n",
    "cnx.close()"
   ]
  },
  {
   "cell_type": "code",
   "execution_count": 32,
   "metadata": {
    "scrolled": true
   },
   "outputs": [],
   "source": [
    "#заполнить дистанции\n",
    "cnx = mysql.connector.connect(user = \"MNIXenus\", password = \"00mefomu\", host = \"127.0.0.1\", database = \"buses\")\n",
    "cursor = cnx.cursor()\n",
    "num_stops = range(len(stops))\n",
    "for i in num_stops:\n",
    "    cursor.execute('ALTER TABLE distances ADD stop_'+str(i)+' INT;')\n",
    "\n",
    "distances_matrix = [[0 for i in num_stops] for j in num_stops]\n",
    "for i in num_stops:\n",
    "    for j in num_stops:\n",
    "        distances_matrix[i][j] = distances_matrix[j][i] = random.randint(100, 5000)\n",
    "for i in num_stops:\n",
    "    cursor.execute('INSERT INTO distances VALUES('+str(i)+', '+str(distances_matrix[i])[1:-1]+');')\n",
    "cnx.commit()\n",
    "cursor.close()\n",
    "cnx.close()"
   ]
  },
  {
   "cell_type": "code",
   "execution_count": 33,
   "metadata": {},
   "outputs": [],
   "source": [
    "#заполнить показания датчиков\n",
    "cnx = mysql.connector.connect(user = \"MNIXenus\", password = \"00mefomu\", host = \"127.0.0.1\", database = \"buses\")\n",
    "cursor = cnx.cursor()\n",
    "cursor.execute('SELECT idroutes FROM routes;')\n",
    "routes = [i[0] for i in cursor.fetchall()]\n",
    "cursor.execute('SELECT * FROM routes;')\n",
    "result = cursor.fetchall()\n",
    "stops_in_routes = {i[0]:list(i[1:]) for i in result}\n",
    "for i in stops_in_routes: #clean away from None\n",
    "    stops_in_routes[i] = [i for i in stops_in_routes[i] if i != None]\n",
    "sensors_data = [[i, j, stops_in_routes[i][1]] for i in routes for j in stops_in_routes[i][2:]]\n",
    "counter = 0\n",
    "for i in routes:\n",
    "    arrival_time = datetime.datetime(2019, 5, 20, 10, 10, 50)\n",
    "    for j in stops_in_routes[i][2:]:\n",
    "        departure_time = arrival_time + datetime.timedelta(seconds = random.randint(0, 300))\n",
    "        sensors_data[counter].append(str(arrival_time))\n",
    "        sensors_data[counter].append(str(departure_time))\n",
    "        arrival_time = departure_time + datetime.timedelta(seconds = random.randint(100, 400))\n",
    "        counter += 1\n",
    "for i in range(len(sensors_data)):\n",
    "    cursor.execute(add_sensor_data.format(i, sensors_data[i][0], sensors_data[i][1],  str(sensors_data[i][2]), sensors_data[i][3], sensors_data[i][4]))\n",
    "cnx.commit()\n",
    "cursor.close()\n",
    "cnx.close()"
   ]
  },
  {
   "cell_type": "code",
   "execution_count": 22,
   "metadata": {
    "scrolled": true
   },
   "outputs": [
    {
     "name": "stdout",
     "output_type": "stream",
     "text": [
      "35 255 0 2019-05-20 10:18:07 2019-05-20 10:18:22\n"
     ]
    }
   ],
   "source": [
    "print(*sensors_data[1])"
   ]
  }
 ],
 "metadata": {
  "kernelspec": {
   "display_name": "Python 3",
   "language": "python",
   "name": "python3"
  },
  "language_info": {
   "codemirror_mode": {
    "name": "ipython",
    "version": 3
   },
   "file_extension": ".py",
   "mimetype": "text/x-python",
   "name": "python",
   "nbconvert_exporter": "python",
   "pygments_lexer": "ipython3",
   "version": "3.7.1"
  }
 },
 "nbformat": 4,
 "nbformat_minor": 2
}
